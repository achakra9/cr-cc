{
 "cells": [
  {
   "cell_type": "markdown",
   "id": "e16635be",
   "metadata": {},
   "source": [
    "**Run CR-CC(2,3) using PySCF**"
   ]
  },
  {
   "cell_type": "code",
   "execution_count": 15,
   "id": "1ca0e1c7",
   "metadata": {},
   "outputs": [],
   "source": [
    "from pyscf import gto, scf, cc\n",
    "import numpy as np"
   ]
  },
  {
   "cell_type": "code",
   "execution_count": 30,
   "id": "835fcd00",
   "metadata": {},
   "outputs": [
    {
     "name": "stdout",
     "output_type": "stream",
     "text": [
      "RHF Energy:     -99.98739744034886 hartree\n",
      "CCSD Energy:    -100.20373507082256 hartree\n",
      "CCSD(T) Energy: -100.20614876218058 hartree\n"
     ]
    }
   ],
   "source": [
    "### Running a basic CC calculation\n",
    "\n",
    "mol = gto.Mole()\n",
    "mol.atom = '''\n",
    "    H  0  0  0\n",
    "    F  0  0  1.1'''\n",
    "mol.basis = 'ccpvdz'\n",
    "mol.symmetry=True\n",
    "mol.spin = 0\n",
    "mol.verbose=1\n",
    "mol.charge=0\n",
    "mol.build()\n",
    "\n",
    "## Run Restricted Hartree-Fock\n",
    "mf = scf.RHF(mol)\n",
    "mf.kernel()\n",
    "print(\"RHF Energy:    \",mf.e_tot,\"hartree\")\n",
    "## Run CCSD\n",
    "mycc = cc.CCSD(mf)\n",
    "mycc.verbose=1\n",
    "mycc.kernel()\n",
    "print(\"CCSD Energy:   \",mycc.e_tot,\"hartree\")\n",
    "ccsdpt = mycc.ccsd_t()\n",
    "print(\"CCSD(T) Energy:\",mycc.e_tot + ccsdpt,\"hartree\")\n",
    "\n",
    "\n"
   ]
  },
  {
   "cell_type": "markdown",
   "id": "ef3d2d5a",
   "metadata": {},
   "source": [
    "From PySCf docs:\n",
    "'''restricted CCSD\n",
    "\n",
    "    Attributes:\n",
    "        verbose : int\n",
    "            Print level.  Default value equals to :class:`Mole.verbose`\n",
    "        max_memory : float or int\n",
    "            Allowed memory in MB.  Default value equals to :class:`Mole.max_memory`\n",
    "        conv_tol : float\n",
    "            converge threshold.  Default is 1e-7.\n",
    "        conv_tol_normt : float\n",
    "            converge threshold for norm(t1,t2).  Default is 1e-5.\n",
    "        max_cycle : int\n",
    "            max number of iterations.  Default is 50.\n",
    "        diis_space : int\n",
    "            DIIS space size.  Default is 6.\n",
    "        diis_start_cycle : int\n",
    "            The step to start DIIS.  Default is 0.\n",
    "        iterative_damping : float\n",
    "            The self consistent damping parameter.\n",
    "        direct : bool\n",
    "            AO-direct CCSD. Default is False.\n",
    "        async_io : bool\n",
    "            Allow for asynchronous function execution. Default is True.\n",
    "        incore_complete : bool\n",
    "            Avoid all I/O (also for DIIS). Default is False.\n",
    "        level_shift : float\n",
    "            A shift on virtual orbital energies to stablize the CCSD iteration\n",
    "        frozen : int or list\n",
    "            If integer is given, the inner-most orbitals are frozen from CC\n",
    "            amplitudes.  Given the orbital indices (0-based) in a list, both\n",
    "            occupied and virtual orbitals can be frozen in CC calculation.\n",
    "\n",
    "            >>> mol = gto.M(atom = 'H 0 0 0; F 0 0 1.1', basis = 'ccpvdz')\n",
    "            >>> mf = scf.RHF(mol).run()\n",
    "            >>> # freeze 2 core orbitals\n",
    "            >>> mycc = cc.CCSD(mf).set(frozen = 2).run()\n",
    "            >>> # freeze 2 core orbitals and 3 high lying unoccupied orbitals\n",
    "            >>> mycc.set(frozen = [0,1,16,17,18]).run()\n",
    "\n",
    "    Saved results\n",
    "\n",
    "        converged : bool\n",
    "            CCSD converged or not\n",
    "        e_corr : float\n",
    "            CCSD correlation correction\n",
    "        e_tot : float\n",
    "            Total CCSD energy (HF + correlation)\n",
    "        t1, t2 :\n",
    "            T amplitudes t1[i,a], t2[i,j,a,b]  (i,j in occ, a,b in virt)\n",
    "        l1, l2 :\n",
    "            Lambda amplitudes l1[i,a], l2[i,j,a,b]  (i,j in occ, a,b in virt)"
   ]
  },
  {
   "cell_type": "code",
   "execution_count": 52,
   "id": "8535c6d5",
   "metadata": {},
   "outputs": [],
   "source": [
    "### Now after running CCSD we already have T1 and T2 amplitudes\n",
    "### To get them out of PySCf we do the following\n",
    "\n",
    "T1 = mycc.t1\n",
    "T2 = mycc.t2"
   ]
  },
  {
   "cell_type": "code",
   "execution_count": 53,
   "id": "6b752808",
   "metadata": {},
   "outputs": [],
   "source": [
    "### Next we want the lambda vectors, but for that we need to\n",
    "### solve the left-CCSD equations. We can do that in the\n",
    "### following way\n",
    "\n",
    "L1, L2 = mycc.solve_lambda()"
   ]
  },
  {
   "cell_type": "code",
   "execution_count": null,
   "id": "5d5e3142",
   "metadata": {},
   "outputs": [],
   "source": []
  },
  {
   "cell_type": "code",
   "execution_count": null,
   "id": "83e3c5bb",
   "metadata": {},
   "outputs": [],
   "source": []
  },
  {
   "cell_type": "code",
   "execution_count": null,
   "id": "6b6fc352",
   "metadata": {},
   "outputs": [],
   "source": []
  },
  {
   "cell_type": "code",
   "execution_count": null,
   "id": "2bf3fbfc",
   "metadata": {},
   "outputs": [],
   "source": []
  },
  {
   "cell_type": "code",
   "execution_count": null,
   "id": "dd2c9bdd",
   "metadata": {},
   "outputs": [],
   "source": []
  },
  {
   "cell_type": "code",
   "execution_count": null,
   "id": "3eb61ee0",
   "metadata": {},
   "outputs": [],
   "source": []
  },
  {
   "cell_type": "code",
   "execution_count": null,
   "id": "5877f4a6",
   "metadata": {},
   "outputs": [],
   "source": []
  }
 ],
 "metadata": {
  "kernelspec": {
   "display_name": "Python 3",
   "language": "python",
   "name": "python3"
  },
  "language_info": {
   "codemirror_mode": {
    "name": "ipython",
    "version": 3
   },
   "file_extension": ".py",
   "mimetype": "text/x-python",
   "name": "python",
   "nbconvert_exporter": "python",
   "pygments_lexer": "ipython3",
   "version": "3.8.8"
  }
 },
 "nbformat": 4,
 "nbformat_minor": 5
}
